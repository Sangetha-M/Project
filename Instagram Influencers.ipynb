{
 "cells": [
  {
   "cell_type": "code",
   "execution_count": 1,
   "id": "6ca825b1",
   "metadata": {},
   "outputs": [
    {
     "name": "stderr",
     "output_type": "stream",
     "text": [
      "C:\\Users\\Sangetha\\anaconda3\\lib\\site-packages\\scipy\\__init__.py:146: UserWarning: A NumPy version >=1.16.5 and <1.23.0 is required for this version of SciPy (detected version 1.23.5\n",
      "  warnings.warn(f\"A NumPy version >={np_minversion} and <{np_maxversion}\"\n"
     ]
    }
   ],
   "source": [
    "import pandas as pd\n",
    "import matplotlib.pyplot as plt\n",
    "import seaborn as sns"
   ]
  },
  {
   "cell_type": "code",
   "execution_count": 2,
   "id": "4a0ae0ab",
   "metadata": {},
   "outputs": [
    {
     "data": {
      "text/html": [
       "<div>\n",
       "<style scoped>\n",
       "    .dataframe tbody tr th:only-of-type {\n",
       "        vertical-align: middle;\n",
       "    }\n",
       "\n",
       "    .dataframe tbody tr th {\n",
       "        vertical-align: top;\n",
       "    }\n",
       "\n",
       "    .dataframe thead th {\n",
       "        text-align: right;\n",
       "    }\n",
       "</style>\n",
       "<table border=\"1\" class=\"dataframe\">\n",
       "  <thead>\n",
       "    <tr style=\"text-align: right;\">\n",
       "      <th></th>\n",
       "      <th>Rank</th>\n",
       "      <th>Channel Info</th>\n",
       "      <th>Influence Score</th>\n",
       "      <th>Followers</th>\n",
       "      <th>Avg. Likes</th>\n",
       "      <th>Posts</th>\n",
       "      <th>60-Day Eng Rate</th>\n",
       "      <th>New Post Avg. Likes</th>\n",
       "      <th>Total Likes</th>\n",
       "      <th>Country Or Region</th>\n",
       "    </tr>\n",
       "  </thead>\n",
       "  <tbody>\n",
       "    <tr>\n",
       "      <th>0</th>\n",
       "      <td>1</td>\n",
       "      <td>\\ncristiano</td>\n",
       "      <td>92</td>\n",
       "      <td>485.2m</td>\n",
       "      <td>8.7m</td>\n",
       "      <td>3.4k</td>\n",
       "      <td>0.013</td>\n",
       "      <td>6.3m</td>\n",
       "      <td>29.1b</td>\n",
       "      <td>Spain</td>\n",
       "    </tr>\n",
       "    <tr>\n",
       "      <th>1</th>\n",
       "      <td>2</td>\n",
       "      <td>kyliejenner</td>\n",
       "      <td>91</td>\n",
       "      <td>370.7m</td>\n",
       "      <td>8.2m</td>\n",
       "      <td>7.0k</td>\n",
       "      <td>0.014</td>\n",
       "      <td>5.0m</td>\n",
       "      <td>57.4b</td>\n",
       "      <td>United States</td>\n",
       "    </tr>\n",
       "    <tr>\n",
       "      <th>2</th>\n",
       "      <td>3</td>\n",
       "      <td>\\nleomessi</td>\n",
       "      <td>90</td>\n",
       "      <td>363.9m</td>\n",
       "      <td>6.7m</td>\n",
       "      <td>915h</td>\n",
       "      <td>0.010</td>\n",
       "      <td>3.5m</td>\n",
       "      <td>6.1b</td>\n",
       "      <td>NaN</td>\n",
       "    </tr>\n",
       "    <tr>\n",
       "      <th>3</th>\n",
       "      <td>4</td>\n",
       "      <td>\\nselenagomez</td>\n",
       "      <td>93</td>\n",
       "      <td>348.8m</td>\n",
       "      <td>6.1m</td>\n",
       "      <td>1.9k</td>\n",
       "      <td>0.005</td>\n",
       "      <td>1.7m</td>\n",
       "      <td>11.4b</td>\n",
       "      <td>United States</td>\n",
       "    </tr>\n",
       "    <tr>\n",
       "      <th>4</th>\n",
       "      <td>5</td>\n",
       "      <td>\\ntherock</td>\n",
       "      <td>91</td>\n",
       "      <td>339.4m</td>\n",
       "      <td>1.8m</td>\n",
       "      <td>6.8k</td>\n",
       "      <td>0.003</td>\n",
       "      <td>932.0k</td>\n",
       "      <td>12.6b</td>\n",
       "      <td>United States</td>\n",
       "    </tr>\n",
       "    <tr>\n",
       "      <th>...</th>\n",
       "      <td>...</td>\n",
       "      <td>...</td>\n",
       "      <td>...</td>\n",
       "      <td>...</td>\n",
       "      <td>...</td>\n",
       "      <td>...</td>\n",
       "      <td>...</td>\n",
       "      <td>...</td>\n",
       "      <td>...</td>\n",
       "      <td>...</td>\n",
       "    </tr>\n",
       "    <tr>\n",
       "      <th>195</th>\n",
       "      <td>196</td>\n",
       "      <td>\\nkhabib_nurmagomedov</td>\n",
       "      <td>63</td>\n",
       "      <td>33.6m</td>\n",
       "      <td>680.6k</td>\n",
       "      <td>4.6k</td>\n",
       "      <td>0.009</td>\n",
       "      <td>305.7k</td>\n",
       "      <td>3.1b</td>\n",
       "      <td>Russia</td>\n",
       "    </tr>\n",
       "    <tr>\n",
       "      <th>196</th>\n",
       "      <td>197</td>\n",
       "      <td>\\ndanbilzerian</td>\n",
       "      <td>84</td>\n",
       "      <td>33.6m</td>\n",
       "      <td>2.2m</td>\n",
       "      <td>1.4k</td>\n",
       "      <td>0.064</td>\n",
       "      <td>2.1m</td>\n",
       "      <td>3.0b</td>\n",
       "      <td>Canada</td>\n",
       "    </tr>\n",
       "    <tr>\n",
       "      <th>197</th>\n",
       "      <td>198</td>\n",
       "      <td>\\nraisa6690</td>\n",
       "      <td>80</td>\n",
       "      <td>33.6m</td>\n",
       "      <td>227.8k</td>\n",
       "      <td>4.2k</td>\n",
       "      <td>0.003</td>\n",
       "      <td>103.2k</td>\n",
       "      <td>955.9m</td>\n",
       "      <td>Indonesia</td>\n",
       "    </tr>\n",
       "    <tr>\n",
       "      <th>198</th>\n",
       "      <td>199</td>\n",
       "      <td>\\nluansantana</td>\n",
       "      <td>79</td>\n",
       "      <td>33.5m</td>\n",
       "      <td>193.3k</td>\n",
       "      <td>865h</td>\n",
       "      <td>0.003</td>\n",
       "      <td>82.6k</td>\n",
       "      <td>167.2m</td>\n",
       "      <td>Brazil</td>\n",
       "    </tr>\n",
       "    <tr>\n",
       "      <th>199</th>\n",
       "      <td>200</td>\n",
       "      <td>\\nnancyajram</td>\n",
       "      <td>81</td>\n",
       "      <td>33.4m</td>\n",
       "      <td>382.5k</td>\n",
       "      <td>3.8k</td>\n",
       "      <td>0.004</td>\n",
       "      <td>128.2k</td>\n",
       "      <td>1.5b</td>\n",
       "      <td>France</td>\n",
       "    </tr>\n",
       "  </tbody>\n",
       "</table>\n",
       "<p>200 rows × 10 columns</p>\n",
       "</div>"
      ],
      "text/plain": [
       "     Rank           Channel Info  Influence Score Followers Avg. Likes Posts  \\\n",
       "0       1            \\ncristiano               92    485.2m       8.7m  3.4k   \n",
       "1       2            kyliejenner               91    370.7m       8.2m  7.0k   \n",
       "2       3             \\nleomessi               90    363.9m       6.7m  915h   \n",
       "3       4          \\nselenagomez               93    348.8m       6.1m  1.9k   \n",
       "4       5              \\ntherock               91    339.4m       1.8m  6.8k   \n",
       "..    ...                    ...              ...       ...        ...   ...   \n",
       "195   196  \\nkhabib_nurmagomedov               63     33.6m     680.6k  4.6k   \n",
       "196   197         \\ndanbilzerian               84     33.6m       2.2m  1.4k   \n",
       "197   198            \\nraisa6690               80     33.6m     227.8k  4.2k   \n",
       "198   199          \\nluansantana               79     33.5m     193.3k  865h   \n",
       "199   200           \\nnancyajram               81     33.4m     382.5k  3.8k   \n",
       "\n",
       "     60-Day Eng Rate New Post Avg. Likes Total Likes Country Or Region  \n",
       "0              0.013                6.3m       29.1b             Spain  \n",
       "1              0.014                5.0m       57.4b     United States  \n",
       "2              0.010                3.5m        6.1b               NaN  \n",
       "3              0.005                1.7m       11.4b     United States  \n",
       "4              0.003              932.0k       12.6b     United States  \n",
       "..               ...                 ...         ...               ...  \n",
       "195            0.009              305.7k        3.1b            Russia  \n",
       "196            0.064                2.1m        3.0b            Canada  \n",
       "197            0.003              103.2k      955.9m         Indonesia  \n",
       "198            0.003               82.6k      167.2m            Brazil  \n",
       "199            0.004              128.2k        1.5b            France  \n",
       "\n",
       "[200 rows x 10 columns]"
      ]
     },
     "execution_count": 2,
     "metadata": {},
     "output_type": "execute_result"
    }
   ],
   "source": [
    "df = pd.read_excel(\"Influencer.xlsx\")\n",
    "df"
   ]
  },
  {
   "cell_type": "code",
   "execution_count": 3,
   "id": "470c0f73",
   "metadata": {},
   "outputs": [
    {
     "data": {
      "text/plain": [
       "Rank                     int64\n",
       "Channel Info            object\n",
       "Influence Score          int64\n",
       "Followers               object\n",
       "Avg. Likes              object\n",
       "Posts                   object\n",
       "60-Day Eng Rate        float64\n",
       "New Post Avg. Likes     object\n",
       "Total Likes             object\n",
       "Country Or Region       object\n",
       "dtype: object"
      ]
     },
     "execution_count": 3,
     "metadata": {},
     "output_type": "execute_result"
    }
   ],
   "source": [
    "df.dtypes"
   ]
  },
  {
   "cell_type": "code",
   "execution_count": 4,
   "id": "1e75d046",
   "metadata": {},
   "outputs": [
    {
     "data": {
      "text/plain": [
       "Rank                    0\n",
       "Channel Info            0\n",
       "Influence Score         0\n",
       "Followers               0\n",
       "Avg. Likes              0\n",
       "Posts                   0\n",
       "60-Day Eng Rate         0\n",
       "New Post Avg. Likes     0\n",
       "Total Likes             0\n",
       "Country Or Region      63\n",
       "dtype: int64"
      ]
     },
     "execution_count": 4,
     "metadata": {},
     "output_type": "execute_result"
    }
   ],
   "source": [
    "df.isnull().sum()"
   ]
  },
  {
   "cell_type": "code",
   "execution_count": 5,
   "id": "970d2822",
   "metadata": {},
   "outputs": [],
   "source": [
    "df.rename(columns = {'Channel Info':'Channel_Info','Avg. Likes': 'Avg_Likes','60-Day Eng Rate':'60-Day_EngRate',\n",
    "                         'New Post Avg. Likes': 'NewPost_AvgLikes', 'Total Likes': 'Total_Likes','Country Or Region': 'Country'}, inplace = True)\n"
   ]
  },
  {
   "cell_type": "code",
   "execution_count": 6,
   "id": "dd5a6917",
   "metadata": {},
   "outputs": [
    {
     "data": {
      "text/plain": [
       "array(['Spain', 'United States', nan, 'Canada', 'Brazil', 'Netherlands',\n",
       "       'United Kingdom', 'India', 'Uruguay', 'Turkey', 'Indonesia',\n",
       "       'Colombia', 'France', 'Australia', 'Italy', 'United Arab Emirates',\n",
       "       'Puerto Rico', \"CÃ´te d'Ivoire\", 'Anguilla', 'Switzerland',\n",
       "       'Sweden', 'British Virgin Islands', 'Czech Republic', 'Mexico',\n",
       "       'Germany', 'Russia'], dtype=object)"
      ]
     },
     "execution_count": 6,
     "metadata": {},
     "output_type": "execute_result"
    }
   ],
   "source": [
    "df['Country'].unique()"
   ]
  },
  {
   "cell_type": "code",
   "execution_count": 7,
   "id": "fd33a600",
   "metadata": {},
   "outputs": [
    {
     "data": {
      "text/plain": [
       "Country\n",
       "Anguilla                   1\n",
       "Australia                  1\n",
       "Brazil                    13\n",
       "British Virgin Islands     1\n",
       "Canada                     3\n",
       "Colombia                   3\n",
       "Czech Republic             1\n",
       "CÃ´te d'Ivoire             1\n",
       "France                     6\n",
       "Germany                    1\n",
       "India                     12\n",
       "Indonesia                  7\n",
       "Italy                      1\n",
       "Mexico                     2\n",
       "Netherlands                2\n",
       "Puerto Rico                1\n",
       "Russia                     1\n",
       "Spain                      5\n",
       "Sweden                     1\n",
       "Switzerland                1\n",
       "Turkey                     2\n",
       "United Arab Emirates       1\n",
       "United Kingdom             4\n",
       "United States             65\n",
       "Uruguay                    1\n",
       "Name: Channel_Info, dtype: int64"
      ]
     },
     "execution_count": 7,
     "metadata": {},
     "output_type": "execute_result"
    }
   ],
   "source": [
    "df.groupby('Country')['Channel_Info'].nunique()"
   ]
  },
  {
   "cell_type": "code",
   "execution_count": 8,
   "id": "4fcc8a19",
   "metadata": {},
   "outputs": [
    {
     "data": {
      "text/html": [
       "<div>\n",
       "<style scoped>\n",
       "    .dataframe tbody tr th:only-of-type {\n",
       "        vertical-align: middle;\n",
       "    }\n",
       "\n",
       "    .dataframe tbody tr th {\n",
       "        vertical-align: top;\n",
       "    }\n",
       "\n",
       "    .dataframe thead th {\n",
       "        text-align: right;\n",
       "    }\n",
       "</style>\n",
       "<table border=\"1\" class=\"dataframe\">\n",
       "  <thead>\n",
       "    <tr style=\"text-align: right;\">\n",
       "      <th></th>\n",
       "      <th>Rank</th>\n",
       "      <th>Channel_Info</th>\n",
       "      <th>Influence Score</th>\n",
       "      <th>Followers</th>\n",
       "      <th>Avg_Likes</th>\n",
       "      <th>Posts</th>\n",
       "      <th>60-Day_EngRate</th>\n",
       "      <th>NewPost_AvgLikes</th>\n",
       "      <th>Total_Likes</th>\n",
       "      <th>Country</th>\n",
       "    </tr>\n",
       "  </thead>\n",
       "  <tbody>\n",
       "    <tr>\n",
       "      <th>2</th>\n",
       "      <td>3</td>\n",
       "      <td>\\nleomessi</td>\n",
       "      <td>90</td>\n",
       "      <td>363.9m</td>\n",
       "      <td>6.7m</td>\n",
       "      <td>915h</td>\n",
       "      <td>0.010</td>\n",
       "      <td>3.5m</td>\n",
       "      <td>6.1b</td>\n",
       "      <td>NaN</td>\n",
       "    </tr>\n",
       "    <tr>\n",
       "      <th>15</th>\n",
       "      <td>16</td>\n",
       "      <td>\\nvirat.kohli</td>\n",
       "      <td>87</td>\n",
       "      <td>215.9m</td>\n",
       "      <td>3.5m</td>\n",
       "      <td>1.4k</td>\n",
       "      <td>0.013</td>\n",
       "      <td>2.7m</td>\n",
       "      <td>5.0b</td>\n",
       "      <td>NaN</td>\n",
       "    </tr>\n",
       "    <tr>\n",
       "      <th>18</th>\n",
       "      <td>19</td>\n",
       "      <td>\\nmileycyrus</td>\n",
       "      <td>89</td>\n",
       "      <td>183.6m</td>\n",
       "      <td>1.3m</td>\n",
       "      <td>1.2k</td>\n",
       "      <td>0.004</td>\n",
       "      <td>702.4k</td>\n",
       "      <td>1.6b</td>\n",
       "      <td>NaN</td>\n",
       "    </tr>\n",
       "    <tr>\n",
       "      <th>20</th>\n",
       "      <td>21</td>\n",
       "      <td>\\nkatyperry</td>\n",
       "      <td>92</td>\n",
       "      <td>173.3m</td>\n",
       "      <td>714.8k</td>\n",
       "      <td>2.1k</td>\n",
       "      <td>0.002</td>\n",
       "      <td>302.9k</td>\n",
       "      <td>1.5b</td>\n",
       "      <td>NaN</td>\n",
       "    </tr>\n",
       "    <tr>\n",
       "      <th>26</th>\n",
       "      <td>27</td>\n",
       "      <td>\\nkingjames</td>\n",
       "      <td>86</td>\n",
       "      <td>133.7m</td>\n",
       "      <td>2.1m</td>\n",
       "      <td>2.4k</td>\n",
       "      <td>0.008</td>\n",
       "      <td>1.0m</td>\n",
       "      <td>4.9b</td>\n",
       "      <td>NaN</td>\n",
       "    </tr>\n",
       "    <tr>\n",
       "      <th>...</th>\n",
       "      <td>...</td>\n",
       "      <td>...</td>\n",
       "      <td>...</td>\n",
       "      <td>...</td>\n",
       "      <td>...</td>\n",
       "      <td>...</td>\n",
       "      <td>...</td>\n",
       "      <td>...</td>\n",
       "      <td>...</td>\n",
       "      <td>...</td>\n",
       "    </tr>\n",
       "    <tr>\n",
       "      <th>181</th>\n",
       "      <td>182</td>\n",
       "      <td>\\ntoni.krs</td>\n",
       "      <td>83</td>\n",
       "      <td>35.6m</td>\n",
       "      <td>597.8k</td>\n",
       "      <td>946h</td>\n",
       "      <td>0.012</td>\n",
       "      <td>432.5k</td>\n",
       "      <td>565.5m</td>\n",
       "      <td>NaN</td>\n",
       "    </tr>\n",
       "    <tr>\n",
       "      <th>182</th>\n",
       "      <td>183</td>\n",
       "      <td>\\nlunamaya</td>\n",
       "      <td>83</td>\n",
       "      <td>35.4m</td>\n",
       "      <td>145.4k</td>\n",
       "      <td>4.1k</td>\n",
       "      <td>0.002</td>\n",
       "      <td>58.6k</td>\n",
       "      <td>594.0m</td>\n",
       "      <td>NaN</td>\n",
       "    </tr>\n",
       "    <tr>\n",
       "      <th>185</th>\n",
       "      <td>186</td>\n",
       "      <td>\\npaollaoliveirareal</td>\n",
       "      <td>84</td>\n",
       "      <td>34.9m</td>\n",
       "      <td>352.0k</td>\n",
       "      <td>4.7k</td>\n",
       "      <td>0.004</td>\n",
       "      <td>132.9k</td>\n",
       "      <td>1.6b</td>\n",
       "      <td>NaN</td>\n",
       "    </tr>\n",
       "    <tr>\n",
       "      <th>189</th>\n",
       "      <td>190</td>\n",
       "      <td>\\nadidasoriginals</td>\n",
       "      <td>83</td>\n",
       "      <td>34.1m</td>\n",
       "      <td>136.2k</td>\n",
       "      <td>180h</td>\n",
       "      <td>0.002</td>\n",
       "      <td>66.8k</td>\n",
       "      <td>24.5m</td>\n",
       "      <td>NaN</td>\n",
       "    </tr>\n",
       "    <tr>\n",
       "      <th>193</th>\n",
       "      <td>194</td>\n",
       "      <td>\\nrashmika_mandanna</td>\n",
       "      <td>84</td>\n",
       "      <td>33.8m</td>\n",
       "      <td>2.3m</td>\n",
       "      <td>525h</td>\n",
       "      <td>0.044</td>\n",
       "      <td>1.5m</td>\n",
       "      <td>1.2b</td>\n",
       "      <td>NaN</td>\n",
       "    </tr>\n",
       "  </tbody>\n",
       "</table>\n",
       "<p>63 rows × 10 columns</p>\n",
       "</div>"
      ],
      "text/plain": [
       "     Rank          Channel_Info  Influence Score Followers Avg_Likes Posts  \\\n",
       "2       3            \\nleomessi               90    363.9m      6.7m  915h   \n",
       "15     16         \\nvirat.kohli               87    215.9m      3.5m  1.4k   \n",
       "18     19          \\nmileycyrus               89    183.6m      1.3m  1.2k   \n",
       "20     21           \\nkatyperry               92    173.3m    714.8k  2.1k   \n",
       "26     27           \\nkingjames               86    133.7m      2.1m  2.4k   \n",
       "..    ...                   ...              ...       ...       ...   ...   \n",
       "181   182            \\ntoni.krs               83     35.6m    597.8k  946h   \n",
       "182   183            \\nlunamaya               83     35.4m    145.4k  4.1k   \n",
       "185   186  \\npaollaoliveirareal               84     34.9m    352.0k  4.7k   \n",
       "189   190     \\nadidasoriginals               83     34.1m    136.2k  180h   \n",
       "193   194   \\nrashmika_mandanna               84     33.8m      2.3m  525h   \n",
       "\n",
       "     60-Day_EngRate NewPost_AvgLikes Total_Likes Country  \n",
       "2             0.010             3.5m        6.1b     NaN  \n",
       "15            0.013             2.7m        5.0b     NaN  \n",
       "18            0.004           702.4k        1.6b     NaN  \n",
       "20            0.002           302.9k        1.5b     NaN  \n",
       "26            0.008             1.0m        4.9b     NaN  \n",
       "..              ...              ...         ...     ...  \n",
       "181           0.012           432.5k      565.5m     NaN  \n",
       "182           0.002            58.6k      594.0m     NaN  \n",
       "185           0.004           132.9k        1.6b     NaN  \n",
       "189           0.002            66.8k       24.5m     NaN  \n",
       "193           0.044             1.5m        1.2b     NaN  \n",
       "\n",
       "[63 rows x 10 columns]"
      ]
     },
     "execution_count": 8,
     "metadata": {},
     "output_type": "execute_result"
    }
   ],
   "source": [
    "df.loc[df.Country.isnull()]"
   ]
  },
  {
   "cell_type": "markdown",
   "id": "002d1aac",
   "metadata": {},
   "source": [
    "The range of values in columns Followers, Avg_Likes\tPosts, NewPost_AvgLikes, Total_Likes are different. Need to change it to same range."
   ]
  },
  {
   "cell_type": "code",
   "execution_count": 9,
   "id": "b77c7980",
   "metadata": {},
   "outputs": [],
   "source": [
    "followers=list(df['Followers'])\n",
    "followers1=list()\n",
    "for num in followers:\n",
    "    if 'm' in num:\n",
    "        new_num=1000000*float(num.replace('m',''))\n",
    "        followers1.append(new_num)\n",
    "    else:\n",
    "        followers1.append(float(num))\n",
    "df['Followers']=followers1"
   ]
  },
  {
   "cell_type": "code",
   "execution_count": 10,
   "id": "0b844581",
   "metadata": {},
   "outputs": [],
   "source": [
    "avg_likes=list(df['Avg_Likes'])\n",
    "avg_likes1=list()\n",
    "for num in avg_likes:\n",
    "    if 'm' in num:\n",
    "        new_num=1000000*float(num.replace('m',''))\n",
    "        avg_likes1.append(new_num)\n",
    "    else:\n",
    "        new_num=1000*float(num.replace('k',''))\n",
    "        avg_likes1.append(new_num)\n",
    "df['Avg_Likes']=avg_likes1"
   ]
  },
  {
   "cell_type": "code",
   "execution_count": 11,
   "id": "d69cdafe",
   "metadata": {},
   "outputs": [],
   "source": [
    "post=list(df['Posts'])\n",
    "post1=list()\n",
    "\n",
    "for num in post:\n",
    "    if 'k' in num:\n",
    "        new_num=1000*float(num.replace('k',''))\n",
    "        post1.append(new_num)\n",
    "    if 'h' in num:\n",
    "        new_num=1*float(num.replace('h',''))\n",
    "        post1.append(new_num)\n",
    "df['Posts']=post1"
   ]
  },
  {
   "cell_type": "code",
   "execution_count": 12,
   "id": "5e0478cd",
   "metadata": {},
   "outputs": [],
   "source": [
    "new_post_avg_like=list(df['NewPost_AvgLikes'])  \n",
    "new_post_avg_like1=list()\n",
    "for num in new_post_avg_like:\n",
    "    if 'm' in num:\n",
    "        new_num=1000000*float(num.replace('m',''))\n",
    "        new_post_avg_like1.append(new_num)\n",
    "    else:\n",
    "       new_num=1000*float(num.replace('k',''))\n",
    "       new_post_avg_like1.append(new_num)\n",
    "df['NewPost_AvgLikes']=new_post_avg_like1"
   ]
  },
  {
   "cell_type": "code",
   "execution_count": 13,
   "id": "5d9816ae",
   "metadata": {},
   "outputs": [],
   "source": [
    "total_likes=list(df['Total_Likes']) \n",
    "total_likes1=list()\n",
    "for num in total_likes:\n",
    "    if 'b' in num:\n",
    "        new_num=1000000000*float(num.replace('b',''))\n",
    "        total_likes1.append(new_num)\n",
    "    else:\n",
    "        new_num=1000000*float(num.replace('m',''))\n",
    "        total_likes1.append(new_num)\n",
    "df['Total_Likes']=total_likes1"
   ]
  },
  {
   "cell_type": "code",
   "execution_count": 14,
   "id": "19d6571b",
   "metadata": {
    "scrolled": false
   },
   "outputs": [
    {
     "data": {
      "text/html": [
       "<div>\n",
       "<style scoped>\n",
       "    .dataframe tbody tr th:only-of-type {\n",
       "        vertical-align: middle;\n",
       "    }\n",
       "\n",
       "    .dataframe tbody tr th {\n",
       "        vertical-align: top;\n",
       "    }\n",
       "\n",
       "    .dataframe thead th {\n",
       "        text-align: right;\n",
       "    }\n",
       "</style>\n",
       "<table border=\"1\" class=\"dataframe\">\n",
       "  <thead>\n",
       "    <tr style=\"text-align: right;\">\n",
       "      <th></th>\n",
       "      <th>Rank</th>\n",
       "      <th>Channel_Info</th>\n",
       "      <th>Influence Score</th>\n",
       "      <th>Followers</th>\n",
       "      <th>Avg_Likes</th>\n",
       "      <th>Posts</th>\n",
       "      <th>60-Day_EngRate</th>\n",
       "      <th>NewPost_AvgLikes</th>\n",
       "      <th>Total_Likes</th>\n",
       "      <th>Country</th>\n",
       "    </tr>\n",
       "  </thead>\n",
       "  <tbody>\n",
       "    <tr>\n",
       "      <th>0</th>\n",
       "      <td>1</td>\n",
       "      <td>\\ncristiano</td>\n",
       "      <td>92</td>\n",
       "      <td>485200000.0</td>\n",
       "      <td>8700000.0</td>\n",
       "      <td>3400.0</td>\n",
       "      <td>0.013</td>\n",
       "      <td>6300000.0</td>\n",
       "      <td>2.910000e+10</td>\n",
       "      <td>Spain</td>\n",
       "    </tr>\n",
       "    <tr>\n",
       "      <th>1</th>\n",
       "      <td>2</td>\n",
       "      <td>kyliejenner</td>\n",
       "      <td>91</td>\n",
       "      <td>370700000.0</td>\n",
       "      <td>8200000.0</td>\n",
       "      <td>7000.0</td>\n",
       "      <td>0.014</td>\n",
       "      <td>5000000.0</td>\n",
       "      <td>5.740000e+10</td>\n",
       "      <td>United States</td>\n",
       "    </tr>\n",
       "    <tr>\n",
       "      <th>2</th>\n",
       "      <td>3</td>\n",
       "      <td>\\nleomessi</td>\n",
       "      <td>90</td>\n",
       "      <td>363900000.0</td>\n",
       "      <td>6700000.0</td>\n",
       "      <td>915.0</td>\n",
       "      <td>0.010</td>\n",
       "      <td>3500000.0</td>\n",
       "      <td>6.100000e+09</td>\n",
       "      <td>NaN</td>\n",
       "    </tr>\n",
       "    <tr>\n",
       "      <th>3</th>\n",
       "      <td>4</td>\n",
       "      <td>\\nselenagomez</td>\n",
       "      <td>93</td>\n",
       "      <td>348800000.0</td>\n",
       "      <td>6100000.0</td>\n",
       "      <td>1900.0</td>\n",
       "      <td>0.005</td>\n",
       "      <td>1700000.0</td>\n",
       "      <td>1.140000e+10</td>\n",
       "      <td>United States</td>\n",
       "    </tr>\n",
       "    <tr>\n",
       "      <th>4</th>\n",
       "      <td>5</td>\n",
       "      <td>\\ntherock</td>\n",
       "      <td>91</td>\n",
       "      <td>339400000.0</td>\n",
       "      <td>1800000.0</td>\n",
       "      <td>6800.0</td>\n",
       "      <td>0.003</td>\n",
       "      <td>932000.0</td>\n",
       "      <td>1.260000e+10</td>\n",
       "      <td>United States</td>\n",
       "    </tr>\n",
       "    <tr>\n",
       "      <th>...</th>\n",
       "      <td>...</td>\n",
       "      <td>...</td>\n",
       "      <td>...</td>\n",
       "      <td>...</td>\n",
       "      <td>...</td>\n",
       "      <td>...</td>\n",
       "      <td>...</td>\n",
       "      <td>...</td>\n",
       "      <td>...</td>\n",
       "      <td>...</td>\n",
       "    </tr>\n",
       "    <tr>\n",
       "      <th>195</th>\n",
       "      <td>196</td>\n",
       "      <td>\\nkhabib_nurmagomedov</td>\n",
       "      <td>63</td>\n",
       "      <td>33600000.0</td>\n",
       "      <td>680600.0</td>\n",
       "      <td>4600.0</td>\n",
       "      <td>0.009</td>\n",
       "      <td>305700.0</td>\n",
       "      <td>3.100000e+09</td>\n",
       "      <td>Russia</td>\n",
       "    </tr>\n",
       "    <tr>\n",
       "      <th>196</th>\n",
       "      <td>197</td>\n",
       "      <td>\\ndanbilzerian</td>\n",
       "      <td>84</td>\n",
       "      <td>33600000.0</td>\n",
       "      <td>2200000.0</td>\n",
       "      <td>1400.0</td>\n",
       "      <td>0.064</td>\n",
       "      <td>2100000.0</td>\n",
       "      <td>3.000000e+09</td>\n",
       "      <td>Canada</td>\n",
       "    </tr>\n",
       "    <tr>\n",
       "      <th>197</th>\n",
       "      <td>198</td>\n",
       "      <td>\\nraisa6690</td>\n",
       "      <td>80</td>\n",
       "      <td>33600000.0</td>\n",
       "      <td>227800.0</td>\n",
       "      <td>4200.0</td>\n",
       "      <td>0.003</td>\n",
       "      <td>103200.0</td>\n",
       "      <td>9.559000e+08</td>\n",
       "      <td>Indonesia</td>\n",
       "    </tr>\n",
       "    <tr>\n",
       "      <th>198</th>\n",
       "      <td>199</td>\n",
       "      <td>\\nluansantana</td>\n",
       "      <td>79</td>\n",
       "      <td>33500000.0</td>\n",
       "      <td>193300.0</td>\n",
       "      <td>865.0</td>\n",
       "      <td>0.003</td>\n",
       "      <td>82600.0</td>\n",
       "      <td>1.672000e+08</td>\n",
       "      <td>Brazil</td>\n",
       "    </tr>\n",
       "    <tr>\n",
       "      <th>199</th>\n",
       "      <td>200</td>\n",
       "      <td>\\nnancyajram</td>\n",
       "      <td>81</td>\n",
       "      <td>33400000.0</td>\n",
       "      <td>382500.0</td>\n",
       "      <td>3800.0</td>\n",
       "      <td>0.004</td>\n",
       "      <td>128200.0</td>\n",
       "      <td>1.500000e+09</td>\n",
       "      <td>France</td>\n",
       "    </tr>\n",
       "  </tbody>\n",
       "</table>\n",
       "<p>200 rows × 10 columns</p>\n",
       "</div>"
      ],
      "text/plain": [
       "     Rank           Channel_Info  Influence Score    Followers  Avg_Likes  \\\n",
       "0       1            \\ncristiano               92  485200000.0  8700000.0   \n",
       "1       2            kyliejenner               91  370700000.0  8200000.0   \n",
       "2       3             \\nleomessi               90  363900000.0  6700000.0   \n",
       "3       4          \\nselenagomez               93  348800000.0  6100000.0   \n",
       "4       5              \\ntherock               91  339400000.0  1800000.0   \n",
       "..    ...                    ...              ...          ...        ...   \n",
       "195   196  \\nkhabib_nurmagomedov               63   33600000.0   680600.0   \n",
       "196   197         \\ndanbilzerian               84   33600000.0  2200000.0   \n",
       "197   198            \\nraisa6690               80   33600000.0   227800.0   \n",
       "198   199          \\nluansantana               79   33500000.0   193300.0   \n",
       "199   200           \\nnancyajram               81   33400000.0   382500.0   \n",
       "\n",
       "      Posts  60-Day_EngRate  NewPost_AvgLikes   Total_Likes        Country  \n",
       "0    3400.0           0.013         6300000.0  2.910000e+10          Spain  \n",
       "1    7000.0           0.014         5000000.0  5.740000e+10  United States  \n",
       "2     915.0           0.010         3500000.0  6.100000e+09            NaN  \n",
       "3    1900.0           0.005         1700000.0  1.140000e+10  United States  \n",
       "4    6800.0           0.003          932000.0  1.260000e+10  United States  \n",
       "..      ...             ...               ...           ...            ...  \n",
       "195  4600.0           0.009          305700.0  3.100000e+09         Russia  \n",
       "196  1400.0           0.064         2100000.0  3.000000e+09         Canada  \n",
       "197  4200.0           0.003          103200.0  9.559000e+08      Indonesia  \n",
       "198   865.0           0.003           82600.0  1.672000e+08         Brazil  \n",
       "199  3800.0           0.004          128200.0  1.500000e+09         France  \n",
       "\n",
       "[200 rows x 10 columns]"
      ]
     },
     "execution_count": 14,
     "metadata": {},
     "output_type": "execute_result"
    }
   ],
   "source": [
    "df"
   ]
  },
  {
   "cell_type": "code",
   "execution_count": 15,
   "id": "2d232d45",
   "metadata": {},
   "outputs": [
    {
     "data": {
      "text/plain": [
       "Rank                  int64\n",
       "Channel_Info         object\n",
       "Influence Score       int64\n",
       "Followers           float64\n",
       "Avg_Likes           float64\n",
       "Posts               float64\n",
       "60-Day_EngRate      float64\n",
       "NewPost_AvgLikes    float64\n",
       "Total_Likes         float64\n",
       "Country              object\n",
       "dtype: object"
      ]
     },
     "execution_count": 15,
     "metadata": {},
     "output_type": "execute_result"
    }
   ],
   "source": [
    "df.dtypes"
   ]
  },
  {
   "cell_type": "markdown",
   "id": "ceef9970",
   "metadata": {},
   "source": [
    "#### 1. Correlation"
   ]
  },
  {
   "cell_type": "code",
   "execution_count": 16,
   "id": "83e39e7b",
   "metadata": {},
   "outputs": [
    {
     "name": "stderr",
     "output_type": "stream",
     "text": [
      "C:\\Users\\Sangetha\\AppData\\Local\\Temp\\ipykernel_9976\\1134722465.py:1: FutureWarning: The default value of numeric_only in DataFrame.corr is deprecated. In a future version, it will default to False. Select only valid columns or specify the value of numeric_only to silence this warning.\n",
      "  df.corr()\n"
     ]
    },
    {
     "data": {
      "text/html": [
       "<div>\n",
       "<style scoped>\n",
       "    .dataframe tbody tr th:only-of-type {\n",
       "        vertical-align: middle;\n",
       "    }\n",
       "\n",
       "    .dataframe tbody tr th {\n",
       "        vertical-align: top;\n",
       "    }\n",
       "\n",
       "    .dataframe thead th {\n",
       "        text-align: right;\n",
       "    }\n",
       "</style>\n",
       "<table border=\"1\" class=\"dataframe\">\n",
       "  <thead>\n",
       "    <tr style=\"text-align: right;\">\n",
       "      <th></th>\n",
       "      <th>Rank</th>\n",
       "      <th>Influence Score</th>\n",
       "      <th>Followers</th>\n",
       "      <th>Avg_Likes</th>\n",
       "      <th>Posts</th>\n",
       "      <th>60-Day_EngRate</th>\n",
       "      <th>NewPost_AvgLikes</th>\n",
       "      <th>Total_Likes</th>\n",
       "    </tr>\n",
       "  </thead>\n",
       "  <tbody>\n",
       "    <tr>\n",
       "      <th>Rank</th>\n",
       "      <td>1.000000</td>\n",
       "      <td>-0.354843</td>\n",
       "      <td>-0.698193</td>\n",
       "      <td>-0.277699</td>\n",
       "      <td>-0.058132</td>\n",
       "      <td>0.028900</td>\n",
       "      <td>-0.272323</td>\n",
       "      <td>-0.465119</td>\n",
       "    </tr>\n",
       "    <tr>\n",
       "      <th>Influence Score</th>\n",
       "      <td>-0.354843</td>\n",
       "      <td>1.000000</td>\n",
       "      <td>0.365428</td>\n",
       "      <td>0.048502</td>\n",
       "      <td>0.168287</td>\n",
       "      <td>-0.072460</td>\n",
       "      <td>0.040011</td>\n",
       "      <td>0.234987</td>\n",
       "    </tr>\n",
       "    <tr>\n",
       "      <th>Followers</th>\n",
       "      <td>-0.698193</td>\n",
       "      <td>0.365428</td>\n",
       "      <td>1.000000</td>\n",
       "      <td>0.346829</td>\n",
       "      <td>0.069171</td>\n",
       "      <td>-0.107439</td>\n",
       "      <td>0.260764</td>\n",
       "      <td>0.667546</td>\n",
       "    </tr>\n",
       "    <tr>\n",
       "      <th>Avg_Likes</th>\n",
       "      <td>-0.277699</td>\n",
       "      <td>0.048502</td>\n",
       "      <td>0.346829</td>\n",
       "      <td>1.000000</td>\n",
       "      <td>-0.348795</td>\n",
       "      <td>0.789359</td>\n",
       "      <td>0.892784</td>\n",
       "      <td>0.361296</td>\n",
       "    </tr>\n",
       "    <tr>\n",
       "      <th>Posts</th>\n",
       "      <td>-0.058132</td>\n",
       "      <td>0.168287</td>\n",
       "      <td>0.069171</td>\n",
       "      <td>-0.348795</td>\n",
       "      <td>1.000000</td>\n",
       "      <td>-0.334047</td>\n",
       "      <td>-0.285154</td>\n",
       "      <td>0.232038</td>\n",
       "    </tr>\n",
       "    <tr>\n",
       "      <th>60-Day_EngRate</th>\n",
       "      <td>0.028900</td>\n",
       "      <td>-0.072460</td>\n",
       "      <td>-0.107439</td>\n",
       "      <td>0.789359</td>\n",
       "      <td>-0.334047</td>\n",
       "      <td>1.000000</td>\n",
       "      <td>0.866293</td>\n",
       "      <td>-0.001560</td>\n",
       "    </tr>\n",
       "    <tr>\n",
       "      <th>NewPost_AvgLikes</th>\n",
       "      <td>-0.272323</td>\n",
       "      <td>0.040011</td>\n",
       "      <td>0.260764</td>\n",
       "      <td>0.892784</td>\n",
       "      <td>-0.285154</td>\n",
       "      <td>0.866293</td>\n",
       "      <td>1.000000</td>\n",
       "      <td>0.351335</td>\n",
       "    </tr>\n",
       "    <tr>\n",
       "      <th>Total_Likes</th>\n",
       "      <td>-0.465119</td>\n",
       "      <td>0.234987</td>\n",
       "      <td>0.667546</td>\n",
       "      <td>0.361296</td>\n",
       "      <td>0.232038</td>\n",
       "      <td>-0.001560</td>\n",
       "      <td>0.351335</td>\n",
       "      <td>1.000000</td>\n",
       "    </tr>\n",
       "  </tbody>\n",
       "</table>\n",
       "</div>"
      ],
      "text/plain": [
       "                      Rank  Influence Score  Followers  Avg_Likes     Posts  \\\n",
       "Rank              1.000000        -0.354843  -0.698193  -0.277699 -0.058132   \n",
       "Influence Score  -0.354843         1.000000   0.365428   0.048502  0.168287   \n",
       "Followers        -0.698193         0.365428   1.000000   0.346829  0.069171   \n",
       "Avg_Likes        -0.277699         0.048502   0.346829   1.000000 -0.348795   \n",
       "Posts            -0.058132         0.168287   0.069171  -0.348795  1.000000   \n",
       "60-Day_EngRate    0.028900        -0.072460  -0.107439   0.789359 -0.334047   \n",
       "NewPost_AvgLikes -0.272323         0.040011   0.260764   0.892784 -0.285154   \n",
       "Total_Likes      -0.465119         0.234987   0.667546   0.361296  0.232038   \n",
       "\n",
       "                  60-Day_EngRate  NewPost_AvgLikes  Total_Likes  \n",
       "Rank                    0.028900         -0.272323    -0.465119  \n",
       "Influence Score        -0.072460          0.040011     0.234987  \n",
       "Followers              -0.107439          0.260764     0.667546  \n",
       "Avg_Likes               0.789359          0.892784     0.361296  \n",
       "Posts                  -0.334047         -0.285154     0.232038  \n",
       "60-Day_EngRate          1.000000          0.866293    -0.001560  \n",
       "NewPost_AvgLikes        0.866293          1.000000     0.351335  \n",
       "Total_Likes            -0.001560          0.351335     1.000000  "
      ]
     },
     "execution_count": 16,
     "metadata": {},
     "output_type": "execute_result"
    }
   ],
   "source": [
    "df.corr()"
   ]
  },
  {
   "cell_type": "code",
   "execution_count": 17,
   "id": "40294c9c",
   "metadata": {},
   "outputs": [
    {
     "name": "stderr",
     "output_type": "stream",
     "text": [
      "C:\\Users\\Sangetha\\AppData\\Local\\Temp\\ipykernel_9976\\3160324439.py:1: FutureWarning: The default value of numeric_only in DataFrame.corr is deprecated. In a future version, it will default to False. Select only valid columns or specify the value of numeric_only to silence this warning.\n",
      "  sns.heatmap(df.corr(), cmap=\"YlGnBu\", annot=True)\n"
     ]
    },
    {
     "data": {
      "text/plain": [
       "<AxesSubplot:>"
      ]
     },
     "execution_count": 17,
     "metadata": {},
     "output_type": "execute_result"
    },
    {
     "data": {
      "image/png": "[encoded data removed]",
      "text/plain": [
       "<Figure size 432x288 with 2 Axes>"
      ]
     },
     "metadata": {
      "needs_background": "light"
     },
     "output_type": "display_data"
    }
   ],
   "source": [
    "sns.heatmap(df.corr(), cmap=\"YlGnBu\", annot=True)"
   ]
  },
  {
   "cell_type": "markdown",
   "id": "c95b64d5",
   "metadata": {},
   "source": [
    "###### Highly Correlation exists between:\n",
    "\n",
    "1. Rank and influence score\n",
    "2. Rank and posts\n",
    "3. Rank and Followers\n",
    "4. Followers and Total likes\n",
    "5. Avg likes and 60 day eng rate\n",
    "6. Avg likes and new post avg likes\n",
    "7. 60 day eng rate and new post avg likes"
   ]
  },
  {
   "cell_type": "markdown",
   "id": "9bb290d0",
   "metadata": {},
   "source": [
    "#### 2. Frequency Distribution"
   ]
  },
  {
   "cell_type": "code",
   "execution_count": 18,
   "id": "3146d8cd",
   "metadata": {},
   "outputs": [
    {
     "data": {
      "text/plain": [
       "(array([  1.,   0.,   3.,   1.,   1.,   2.,   3.,  25., 107.,  57.]),\n",
       " array([22. , 29.1, 36.2, 43.3, 50.4, 57.5, 64.6, 71.7, 78.8, 85.9, 93. ]),\n",
       " <BarContainer object of 10 artists>)"
      ]
     },
     "execution_count": 18,
     "metadata": {},
     "output_type": "execute_result"
    },
    {
     "data": {
      "image/png": "[encoded data removed]",
      "text/plain": [
       "<Figure size 432x288 with 1 Axes>"
      ]
     },
     "metadata": {
      "needs_background": "light"
     },
     "output_type": "display_data"
    }
   ],
   "source": [
    "plt.hist(df['Influence Score'])"
   ]
  },
  {
   "cell_type": "code",
   "execution_count": 19,
   "id": "550f47a5",
   "metadata": {},
   "outputs": [
    {
     "data": {
      "text/plain": [
       "(array([161.,  10.,   8.,   5.,   6.,   3.,   4.,   2.,   0.,   1.]),\n",
       " array([3.3400e+07, 7.8580e+07, 1.2376e+08, 1.6894e+08, 2.1412e+08,\n",
       "        2.5930e+08, 3.0448e+08, 3.4966e+08, 3.9484e+08, 4.4002e+08,\n",
       "        4.8520e+08]),\n",
       " <BarContainer object of 10 artists>)"
      ]
     },
     "execution_count": 19,
     "metadata": {},
     "output_type": "execute_result"
    },
    {
     "data": {
      "image/png": "[encoded data removed]",
      "text/plain": [
       "<Figure size 432x288 with 1 Axes>"
      ]
     },
     "metadata": {
      "needs_background": "light"
     },
     "output_type": "display_data"
    }
   ],
   "source": [
    "plt.hist(df['Followers'])"
   ]
  },
  {
   "cell_type": "code",
   "execution_count": 20,
   "id": "3d0189cf",
   "metadata": {},
   "outputs": [
    {
     "data": {
      "text/plain": [
       "(array([84., 44., 22., 13., 11., 22.,  2.,  1.,  0.,  1.]),\n",
       " array([   20.,  1708.,  3396.,  5084.,  6772.,  8460., 10148., 11836.,\n",
       "        13524., 15212., 16900.]),\n",
       " <BarContainer object of 10 artists>)"
      ]
     },
     "execution_count": 20,
     "metadata": {},
     "output_type": "execute_result"
    },
    {
     "data": {
      "image/png": "[encoded data removed]",
      "text/plain": [
       "<Figure size 432x288 with 1 Axes>"
      ]
     },
     "metadata": {
      "needs_background": "light"
     },
     "output_type": "display_data"
    }
   ],
   "source": [
    "plt.hist(df['Posts'])"
   ]
  },
  {
   "cell_type": "markdown",
   "id": "4ac54686",
   "metadata": {},
   "source": [
    "#### 3. Top Country"
   ]
  },
  {
   "cell_type": "code",
   "execution_count": 67,
   "id": "27b7ac9c",
   "metadata": {},
   "outputs": [
    {
     "name": "stdout",
     "output_type": "stream",
     "text": [
      "United States             65\n",
      "Brazil                    13\n",
      "India                     12\n",
      "Indonesia                  7\n",
      "France                     6\n",
      "Spain                      5\n",
      "United Kingdom             4\n",
      "Colombia                   3\n",
      "Canada                     3\n",
      "Mexico                     2\n",
      "Turkey                     2\n",
      "Netherlands                2\n",
      "Switzerland                1\n",
      "Germany                    1\n",
      "Czech Republic             1\n",
      "British Virgin Islands     1\n",
      "Sweden                     1\n",
      "Australia                  1\n",
      "Anguilla                   1\n",
      "CÃ´te d'Ivoire             1\n",
      "Puerto Rico                1\n",
      "United Arab Emirates       1\n",
      "Italy                      1\n",
      "Uruguay                    1\n",
      "Russia                     1\n",
      "Name: Country, dtype: int64\n"
     ]
    },
    {
     "data": {
      "text/plain": [
       "<AxesSubplot:>"
      ]
     },
     "execution_count": 67,
     "metadata": {},
     "output_type": "execute_result"
    },
    {
     "data": {
      "image/png": "[encoded data removed]",
      "text/plain": [
       "<Figure size 432x288 with 1 Axes>"
      ]
     },
     "metadata": {
      "needs_background": "light"
     },
     "output_type": "display_data"
    }
   ],
   "source": [
    "Highest = df['Country'].value_counts()\n",
    "print(Highest)\n",
    "Highest.plot.bar()"
   ]
  },
  {
   "cell_type": "markdown",
   "id": "803d4aaa",
   "metadata": {},
   "source": [
    "#### 4. Top 10 Influencers"
   ]
  },
  {
   "cell_type": "code",
   "execution_count": 21,
   "id": "2fdd415a",
   "metadata": {},
   "outputs": [
    {
     "data": {
      "text/plain": [
       "<AxesSubplot:title={'center':'Top 10 - Highest followers'}, xlabel='Followers', ylabel='Channel_Info'>"
      ]
     },
     "execution_count": 21,
     "metadata": {},
     "output_type": "execute_result"
    },
    {
     "data": {
      "image/png": "[encoded data removed]",
      "text/plain": [
       "<Figure size 432x288 with 1 Axes>"
      ]
     },
     "metadata": {
      "needs_background": "light"
     },
     "output_type": "display_data"
    }
   ],
   "source": [
    "plt.title('Top 10 - Highest followers')\n",
    "sns.barplot(y='Channel_Info',x='Followers', data=df.sort_values(by='Followers',ascending=False).head(10))"
   ]
  },
  {
   "cell_type": "code",
   "execution_count": 22,
   "id": "873d6990",
   "metadata": {},
   "outputs": [
    {
     "data": {
      "text/plain": [
       "<AxesSubplot:title={'center':'Top 10 - Total Avg likes'}, xlabel='Avg_Likes', ylabel='Channel_Info'>"
      ]
     },
     "execution_count": 22,
     "metadata": {},
     "output_type": "execute_result"
    },
    {
     "data": {
      "image/png": "[encoded data removed]",
      "text/plain": [
       "<Figure size 432x288 with 1 Axes>"
      ]
     },
     "metadata": {
      "needs_background": "light"
     },
     "output_type": "display_data"
    }
   ],
   "source": [
    "plt.title('Top 10 - Total Avg likes')\n",
    "sns.barplot(y='Channel_Info',x='Avg_Likes',data=df.sort_values(by='Avg_Likes',ascending=False).head(10))"
   ]
  },
  {
   "cell_type": "code",
   "execution_count": 23,
   "id": "8e78d0cc",
   "metadata": {},
   "outputs": [
    {
     "data": {
      "text/plain": [
       "<AxesSubplot:title={'center':'Top 10 - Total likes'}, xlabel='Total_Likes', ylabel='Channel_Info'>"
      ]
     },
     "execution_count": 23,
     "metadata": {},
     "output_type": "execute_result"
    },
    {
     "data": {
      "image/png": "[encoded data removed]",
      "text/plain": [
       "<Figure size 432x288 with 1 Axes>"
      ]
     },
     "metadata": {
      "needs_background": "light"
     },
     "output_type": "display_data"
    }
   ],
   "source": [
    "plt.title('Top 10 - Total likes')\n",
    "sns.barplot(y='Channel_Info',x='Total_Likes', data=df.sort_values(by='Total_Likes',ascending=False).head(10))"
   ]
  },
  {
   "cell_type": "markdown",
   "id": "9eb257e2",
   "metadata": {},
   "source": [
    "#### 5. Relationship between Followers and Total Likes"
   ]
  },
  {
   "cell_type": "code",
   "execution_count": 24,
   "id": "98d3435b",
   "metadata": {},
   "outputs": [
    {
     "data": {
      "text/html": [
       "<div>\n",
       "<style scoped>\n",
       "    .dataframe tbody tr th:only-of-type {\n",
       "        vertical-align: middle;\n",
       "    }\n",
       "\n",
       "    .dataframe tbody tr th {\n",
       "        vertical-align: top;\n",
       "    }\n",
       "\n",
       "    .dataframe thead th {\n",
       "        text-align: right;\n",
       "    }\n",
       "</style>\n",
       "<table border=\"1\" class=\"dataframe\">\n",
       "  <thead>\n",
       "    <tr style=\"text-align: right;\">\n",
       "      <th></th>\n",
       "      <th>Followers</th>\n",
       "      <th>Total_Likes</th>\n",
       "    </tr>\n",
       "  </thead>\n",
       "  <tbody>\n",
       "    <tr>\n",
       "      <th>Followers</th>\n",
       "      <td>1.000000</td>\n",
       "      <td>0.667546</td>\n",
       "    </tr>\n",
       "    <tr>\n",
       "      <th>Total_Likes</th>\n",
       "      <td>0.667546</td>\n",
       "      <td>1.000000</td>\n",
       "    </tr>\n",
       "  </tbody>\n",
       "</table>\n",
       "</div>"
      ],
      "text/plain": [
       "             Followers  Total_Likes\n",
       "Followers     1.000000     0.667546\n",
       "Total_Likes   0.667546     1.000000"
      ]
     },
     "execution_count": 24,
     "metadata": {},
     "output_type": "execute_result"
    }
   ],
   "source": [
    "df[['Followers', 'Total_Likes']].corr()   "
   ]
  },
  {
   "cell_type": "code",
   "execution_count": 25,
   "id": "5625998e",
   "metadata": {},
   "outputs": [
    {
     "data": {
      "text/plain": [
       "<AxesSubplot:title={'center':'Stacked Bar plot with Spectral Palette'}>"
      ]
     },
     "execution_count": 25,
     "metadata": {},
     "output_type": "execute_result"
    },
    {
     "data": {
      "image/png": "[encoded data removed]",
      "text/plain": [
       "<Figure size 432x288 with 1 Axes>"
      ]
     },
     "metadata": {
      "needs_background": "light"
     },
     "output_type": "display_data"
    }
   ],
   "source": [
    "A = df[['Followers', 'Total_Likes']]\n",
    "A.plot(kind='bar',stacked=True, colormap='Spectral', title='Stacked Bar plot with Spectral Palette')\n"
   ]
  },
  {
   "cell_type": "code",
   "execution_count": 26,
   "id": "3dc49c26",
   "metadata": {},
   "outputs": [
    {
     "data": {
      "text/plain": [
       "<AxesSubplot:title={'center':'Stacked Bar plot with Spectral Palette'}>"
      ]
     },
     "execution_count": 26,
     "metadata": {},
     "output_type": "execute_result"
    },
    {
     "data": {
      "image/png": "[encoded data removed]",
      "text/plain": [
       "<Figure size 432x288 with 1 Axes>"
      ]
     },
     "metadata": {
      "needs_background": "light"
     },
     "output_type": "display_data"
    }
   ],
   "source": [
    "A = df[['Followers', 'Influence Score']]\n",
    "A.plot(kind='bar',stacked=True, colormap='Spectral', title='Stacked Bar plot with Spectral Palette')"
   ]
  },
  {
   "cell_type": "code",
   "execution_count": 27,
   "id": "606e85b5",
   "metadata": {},
   "outputs": [
    {
     "data": {
      "text/plain": [
       "<AxesSubplot:title={'center':'Stacked Bar plot with Spectral Palette'}>"
      ]
     },
     "execution_count": 27,
     "metadata": {},
     "output_type": "execute_result"
    },
    {
     "data": {
      "image/png": "[encoded data removed]",
      "text/plain": [
       "<Figure size 432x288 with 1 Axes>"
      ]
     },
     "metadata": {
      "needs_background": "light"
     },
     "output_type": "display_data"
    }
   ],
   "source": [
    "A = df[['Posts', 'Influence Score']]\n",
    "A.plot(kind='bar',stacked=True, colormap='Spectral', title='Stacked Bar plot with Spectral Palette')"
   ]
  },
  {
   "cell_type": "code",
   "execution_count": 28,
   "id": "c1bd3664",
   "metadata": {},
   "outputs": [
    {
     "data": {
      "text/plain": [
       "<AxesSubplot:title={'center':'Stacked Bar plot with Spectral Palette'}>"
      ]
     },
     "execution_count": 28,
     "metadata": {},
     "output_type": "execute_result"
    },
    {
     "data": {
      "image/png": "[encoded data removed]",
      "text/plain": [
       "<Figure size 432x288 with 1 Axes>"
      ]
     },
     "metadata": {
      "needs_background": "light"
     },
     "output_type": "display_data"
    }
   ],
   "source": [
    "A = df[['Posts', 'Avg_Likes']]\n",
    "A.plot(kind='bar',stacked=True, colormap='Spectral', title='Stacked Bar plot with Spectral Palette')"
   ]
  }
 ],
 "metadata": {
  "kernelspec": {
   "display_name": "Python 3 (ipykernel)",
   "language": "python",
   "name": "python3"
  },
  "language_info": {
   "codemirror_mode": {
    "name": "ipython",
    "version": 3
   },
   "file_extension": ".py",
   "mimetype": "text/x-python",
   "name": "python",
   "nbconvert_exporter": "python",
   "pygments_lexer": "ipython3",
   "version": "3.9.12"
  }
 },
 "nbformat": 4,
 "nbformat_minor": 5
}
